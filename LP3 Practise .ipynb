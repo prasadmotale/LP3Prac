{
 "cells": [
  {
   "cell_type": "markdown",
   "metadata": {},
   "source": [
    "# ICS A1: SDES"
   ]
  },
  {
   "cell_type": "code",
   "execution_count": 1094,
   "metadata": {},
   "outputs": [],
   "source": [
    "import random"
   ]
  },
  {
   "cell_type": "code",
   "execution_count": 1095,
   "metadata": {},
   "outputs": [],
   "source": [
    "P10=[]\n",
    "P8=[]\n",
    "IP=[] #size = 8\n",
    "EP=[] #size = 8\n",
    "INV_IP=[]"
   ]
  },
  {
   "cell_type": "code",
   "execution_count": 1096,
   "metadata": {},
   "outputs": [],
   "source": [
    "def generate_rand_permutation(n):\n",
    "    out = [i+1 for i in range(n)]\n",
    "    random.shuffle(out)\n",
    "    return out"
   ]
  },
  {
   "cell_type": "code",
   "execution_count": 1097,
   "metadata": {},
   "outputs": [
    {
     "name": "stdout",
     "output_type": "stream",
     "text": [
      "IP:  [5, 3, 8, 7, 2, 1, 6, 4]\n",
      "INV_IP:  [6, 5, 2, 8, 1, 7, 4, 3]\n"
     ]
    }
   ],
   "source": [
    "IP = generate_rand_permutation(8)\n",
    "INV_IP = [1]*8\n",
    "for i in range(8):\n",
    "    INV_IP[IP[i]-1]=i+1\n",
    "    \n",
    "print('IP: ',IP)\n",
    "print('INV_IP: ',INV_IP)"
   ]
  },
  {
   "cell_type": "code",
   "execution_count": 1098,
   "metadata": {},
   "outputs": [
    {
     "data": {
      "text/plain": [
       "[3, 4, 1, 2, 3, 4, 1, 2]"
      ]
     },
     "execution_count": 1098,
     "metadata": {},
     "output_type": "execute_result"
    }
   ],
   "source": [
    "EP = generate_rand_permutation(4)*2\n",
    "EP"
   ]
  },
  {
   "cell_type": "code",
   "execution_count": 1099,
   "metadata": {},
   "outputs": [
    {
     "data": {
      "text/plain": [
       "[4, 10, 5, 2, 7, 3, 6, 1, 9, 8]"
      ]
     },
     "execution_count": 1099,
     "metadata": {},
     "output_type": "execute_result"
    }
   ],
   "source": [
    "P10 = generate_rand_permutation(10)\n",
    "P10"
   ]
  },
  {
   "cell_type": "code",
   "execution_count": 1100,
   "metadata": {},
   "outputs": [
    {
     "data": {
      "text/plain": [
       "[2, 8, 10, 1, 9, 5, 4, 6]"
      ]
     },
     "execution_count": 1100,
     "metadata": {},
     "output_type": "execute_result"
    }
   ],
   "source": [
    "P8 = random.sample(generate_rand_permutation(10),8)\n",
    "P8"
   ]
  },
  {
   "cell_type": "code",
   "execution_count": 1101,
   "metadata": {},
   "outputs": [],
   "source": [
    "S0 = [\n",
    "    [1, 0, 3, 2],\n",
    "    [3, 2, 1, 0],\n",
    "    [0, 2, 1, 3],\n",
    "    [3, 1, 3, 2]\n",
    "]\n",
    "S1 = [\n",
    "    [0, 1, 2, 3],\n",
    "    [2, 0, 1, 3],\n",
    "    [3, 0, 1, 0],\n",
    "    [2, 1, 0, 3]\n",
    "]"
   ]
  },
  {
   "cell_type": "code",
   "execution_count": 1102,
   "metadata": {},
   "outputs": [],
   "source": [
    "def bin_to_dec(n):\n",
    "    return int(n,2)\n",
    "def dec_to_bin(n):\n",
    "    return bin(n).replace(\"0b\",\"\")"
   ]
  },
  {
   "cell_type": "code",
   "execution_count": 1103,
   "metadata": {},
   "outputs": [],
   "source": [
    "def left_circular_shift(a,shift=1):\n",
    "    shift = shift%len(a)\n",
    "    a = a[shift:]+a[:shift]\n",
    "    return a"
   ]
  },
  {
   "cell_type": "code",
   "execution_count": 1104,
   "metadata": {},
   "outputs": [],
   "source": [
    "def permutate(a,P):\n",
    "    ret=\"\"\n",
    "    for k in P:\n",
    "        ret += a[k-1]\n",
    "    return ret"
   ]
  },
  {
   "cell_type": "code",
   "execution_count": 1105,
   "metadata": {},
   "outputs": [],
   "source": [
    "def split_key(key):\n",
    "    mid = len(key)//2\n",
    "    left = key[:mid]\n",
    "    right = key[mid:]\n",
    "    return left,right"
   ]
  },
  {
   "cell_type": "code",
   "execution_count": 1106,
   "metadata": {},
   "outputs": [],
   "source": [
    "def xor(a,b):\n",
    "    ret=\"\"\n",
    "    for i in range(len(a)):\n",
    "        if a[i]==b[i]:\n",
    "            ret += \"0\"\n",
    "        else:\n",
    "            ret += \"1\"\n",
    "    return ret"
   ]
  },
  {
   "cell_type": "markdown",
   "metadata": {},
   "source": [
    "## FUNCTIONS MAIN###"
   ]
  },
  {
   "cell_type": "code",
   "execution_count": 1107,
   "metadata": {},
   "outputs": [],
   "source": [
    "def gen_subkeys(key):\n",
    "    #P10(key)\n",
    "    #split left right\n",
    "    # 1LS\n",
    "    #P8\n",
    "    #k1\n",
    "    #1LS k bad 2LS\n",
    "    #P8\n",
    "    #k2\n",
    "    n_key = permutate(key,P10)\n",
    "    left,right = split_key(n_key)\n",
    "    \n",
    "    left = left_circular_shift(left,1)\n",
    "    right = left_circular_shift(right,1)\n",
    "    key1 = permutate(left+right,P8)\n",
    "    \n",
    "    left = left_circular_shift(left,2)\n",
    "    right = left_circular_shift(right,2)\n",
    "    key2 = permutate(left+right,P8)\n",
    "    \n",
    "    return key1,key2"
   ]
  },
  {
   "cell_type": "code",
   "execution_count": 1108,
   "metadata": {},
   "outputs": [
    {
     "name": "stdout",
     "output_type": "stream",
     "text": [
      "01110010   11100011\n"
     ]
    }
   ],
   "source": [
    "k1,k2 = gen_subkeys(\"1010001011\");\n",
    "print(k1,\" \",k2)"
   ]
  },
  {
   "cell_type": "code",
   "execution_count": 1109,
   "metadata": {},
   "outputs": [],
   "source": [
    "def s_box(text,s):\n",
    "    r = text[0]+text[3]\n",
    "    c = text[1]+text[2]\n",
    "    r = bin_to_dec(r)\n",
    "    c = bin_to_dec(c)\n",
    "    val = s[r][c]\n",
    "    val = dec_to_bin(c)\n",
    "    while len(val)<2:\n",
    "        val = '0'+val\n",
    "    return val"
   ]
  },
  {
   "cell_type": "code",
   "execution_count": 1110,
   "metadata": {},
   "outputs": [],
   "source": [
    "def function(left,right,subKey):\n",
    "    text = right #size 4\n",
    "    text = permutate(text,EP) #size 8 (bcoz of EP-Expanded Permutation)\n",
    "    text = xor(text,subKey) #size 8\n",
    "    text_left,text_right = split_key(text)\n",
    "    text = s_box(text_left,S0)+s_box(text_right,S1) #size of text = 2+2 = 4\n",
    "    text = xor(text,left)\n",
    "    return text,right"
   ]
  },
  {
   "cell_type": "code",
   "execution_count": 1111,
   "metadata": {},
   "outputs": [],
   "source": [
    "def encrypt(PT,key):\n",
    "    k1,k2 = gen_subkeys(key)\n",
    "    PT = permutate(PT,IP)\n",
    "    leftP,rightP = split_key(PT)\n",
    "    \n",
    "    #Round1\n",
    "    leftP,rightP = function(leftP,rightP,k1)\n",
    "    #swap\n",
    "    leftP,rightP = rightP,leftP\n",
    "    #Round2\n",
    "    leftP,rightP = function(leftP,rightP,k2)\n",
    "    \n",
    "    CT = permutate(leftP+rightP,INV_IP)\n",
    "    return CT\n",
    "    \n",
    "    "
   ]
  },
  {
   "cell_type": "code",
   "execution_count": 1112,
   "metadata": {},
   "outputs": [],
   "source": [
    "def decrypt(CT,key):\n",
    "    k1,k2 = gen_subkeys(key)\n",
    "    CT = permutate(CT,IP)\n",
    "    leftP,rightP = split_key(CT)\n",
    "    \n",
    "    #Round1\n",
    "    leftP,rightP = function(leftP,rightP,k2)\n",
    "    #swap\n",
    "    leftP,rightP = rightP,leftP\n",
    "    #Round2\n",
    "    leftP,rightP = function(leftP,rightP,k1)\n",
    "    \n",
    "    PT = permutate(leftP+rightP,INV_IP)\n",
    "    return PT"
   ]
  },
  {
   "cell_type": "code",
   "execution_count": 1113,
   "metadata": {},
   "outputs": [],
   "source": [
    "key = \"1010000010\"\n",
    "plaintext = \"01110010\""
   ]
  },
  {
   "cell_type": "code",
   "execution_count": 1114,
   "metadata": {},
   "outputs": [
    {
     "name": "stdout",
     "output_type": "stream",
     "text": [
      "10100110 01110010\n"
     ]
    }
   ],
   "source": [
    "c=encrypt(plaintext,key)\n",
    "p=decrypt(c,key)\n",
    "print(c,p)"
   ]
  },
  {
   "cell_type": "markdown",
   "metadata": {},
   "source": [
    "# ICS A3 - Diffie Hellman"
   ]
  },
  {
   "cell_type": "code",
   "execution_count": 1115,
   "metadata": {},
   "outputs": [],
   "source": [
    "#global variables\n",
    "P=23\n",
    "G=14"
   ]
  },
  {
   "cell_type": "code",
   "execution_count": 1116,
   "metadata": {},
   "outputs": [],
   "source": [
    "#private keys\n",
    "a=3\n",
    "b=4"
   ]
  },
  {
   "cell_type": "code",
   "execution_count": 1117,
   "metadata": {},
   "outputs": [
    {
     "name": "stdout",
     "output_type": "stream",
     "text": [
      "7 6\n"
     ]
    }
   ],
   "source": [
    "Ka = pow(G,a)%P\n",
    "Kb = pow(G,b)%P\n",
    "print(Ka,Kb)"
   ]
  },
  {
   "cell_type": "code",
   "execution_count": 1118,
   "metadata": {},
   "outputs": [],
   "source": [
    "PKa = pow(Kb,a)%P\n",
    "PKb = pow(Ka,b)%P"
   ]
  },
  {
   "cell_type": "code",
   "execution_count": 1119,
   "metadata": {},
   "outputs": [
    {
     "name": "stdout",
     "output_type": "stream",
     "text": [
      "9   9\n"
     ]
    }
   ],
   "source": [
    "print(PKa,\" \",PKb)"
   ]
  },
  {
   "cell_type": "markdown",
   "metadata": {},
   "source": [
    "# ICS A4 RSA Algorithm"
   ]
  },
  {
   "cell_type": "code",
   "execution_count": 1120,
   "metadata": {},
   "outputs": [],
   "source": [
    "#gloabl 2 big prime numbers\n",
    "P=53\n",
    "Q=59"
   ]
  },
  {
   "cell_type": "code",
   "execution_count": 1121,
   "metadata": {},
   "outputs": [],
   "source": [
    "n=P*Q\n",
    "phi_n=(P-1)*(Q-1)"
   ]
  },
  {
   "cell_type": "code",
   "execution_count": 1122,
   "metadata": {},
   "outputs": [],
   "source": [
    "def gcd(a,b):\n",
    "    if(a==0):\n",
    "        return b\n",
    "    return gcd(b%a,a)"
   ]
  },
  {
   "cell_type": "code",
   "execution_count": 1123,
   "metadata": {},
   "outputs": [
    {
     "data": {
      "text/plain": [
       "3"
      ]
     },
     "execution_count": 1123,
     "metadata": {},
     "output_type": "execute_result"
    }
   ],
   "source": [
    "#find e\n",
    "e =2\n",
    "while(e<phi_n):\n",
    "    if(gcd(e,phi_n)==1):\n",
    "        break\n",
    "    e += 1\n",
    "e"
   ]
  },
  {
   "cell_type": "code",
   "execution_count": 1124,
   "metadata": {},
   "outputs": [
    {
     "data": {
      "text/plain": [
       "2011"
      ]
     },
     "execution_count": 1124,
     "metadata": {},
     "output_type": "execute_result"
    }
   ],
   "source": [
    "#find d\n",
    "k=1\n",
    "while (k*phi_n+1)%e !=0:\n",
    "    k +=1\n",
    "d = (k*phi_n+1)//e\n",
    "d"
   ]
  },
  {
   "cell_type": "code",
   "execution_count": 1125,
   "metadata": {},
   "outputs": [],
   "source": [
    "public_key=[e,n]\n",
    "private_key=[d,n]"
   ]
  },
  {
   "cell_type": "code",
   "execution_count": 1126,
   "metadata": {},
   "outputs": [],
   "source": [
    "def mod_pow(a, b, m):\n",
    "  if b==0:\n",
    "    return 1\n",
    "  r = mod_pow(a, b//2, m)\n",
    "  r = (r * r) % m\n",
    "  if b % 2 == 1:\n",
    "    r = (r * a) % m\n",
    "  return r"
   ]
  },
  {
   "cell_type": "code",
   "execution_count": 1127,
   "metadata": {},
   "outputs": [],
   "source": [
    "def encrypt(PT,public_key):\n",
    "    e,n = public_key\n",
    "    return mod_pow(PT,e,n)"
   ]
  },
  {
   "cell_type": "code",
   "execution_count": 1128,
   "metadata": {},
   "outputs": [],
   "source": [
    "def decrypt(CT,private_key):\n",
    "    d,n = private_key\n",
    "    return mod_pow(CT,d,n)"
   ]
  },
  {
   "cell_type": "code",
   "execution_count": 1129,
   "metadata": {},
   "outputs": [
    {
     "name": "stdout",
     "output_type": "stream",
     "text": [
      "89 1394\n"
     ]
    }
   ],
   "source": [
    "plaintext = 89\n",
    "c = encrypt(plaintext,public_key )\n",
    "p = decrypt(c, private_key)\n",
    "print(p,c)"
   ]
  },
  {
   "cell_type": "markdown",
   "metadata": {},
   "source": [
    "# ICS A5 ECC"
   ]
  },
  {
   "cell_type": "code",
   "execution_count": 1130,
   "metadata": {},
   "outputs": [],
   "source": [
    "class Point:\n",
    "    def __init__(self,x,y):\n",
    "        self.x = round(x,2)\n",
    "        self.y = round(y,2)\n",
    "    def __eq__(self, p2):\n",
    "        return self.x == p2.x and self.y == p2.y\n",
    "    def __str__(self) -> str:\n",
    "      return f\"({self.x}, {self.y})\""
   ]
  },
  {
   "cell_type": "code",
   "execution_count": 1131,
   "metadata": {},
   "outputs": [],
   "source": [
    "class ECC:\n",
    "    def __init__(self,a,b):\n",
    "        self.a = a\n",
    "        self.b = b\n",
    "    def add(self,p1,p2,m=P):\n",
    "        l=0\n",
    "        if(p1==p2):\n",
    "            num = 3*p1.x*p1.x+self.a\n",
    "            den = 2*p1.y\n",
    "        else:\n",
    "            num = p2.y-p1.y\n",
    "            den = p2.x-p1.x\n",
    "        l = num/den\n",
    "        x3 = l*l-p1.x-p2.x\n",
    "        y3 = l*(p1.x-x3)-p1.y\n",
    "        return Point(x3,y3)\n",
    "    \n",
    "    def mul(self,k,p):\n",
    "        temp = p\n",
    "        while k!=1:\n",
    "            temp = self.add(temp,p)\n",
    "            k-=1\n",
    "        return temp\n",
    "    \n",
    "    def sub(self,p1,p2):\n",
    "        np = Point(p2.x,-p2.y)\n",
    "        return self.add(p1,np)"
   ]
  },
  {
   "cell_type": "code",
   "execution_count": 1132,
   "metadata": {},
   "outputs": [],
   "source": [
    "curve = ECC(2, 4) # Points lying on this curve:{0, 2}, {0, 5}, {1, 0}, {2, 3}, {2, 4}, {3, 3}, {3, 4}, {6, 1}, {6, 6}\n",
    "G = Point(0, 2)"
   ]
  },
  {
   "cell_type": "code",
   "execution_count": 1133,
   "metadata": {},
   "outputs": [],
   "source": [
    "def encrypt(Pm,U):\n",
    "    k=5\n",
    "    CT=[\n",
    "        curve.mul(k,G),\n",
    "        curve.add(Pm,curve.mul(k,U))\n",
    "    ]\n",
    "    return CT"
   ]
  },
  {
   "cell_type": "code",
   "execution_count": 1134,
   "metadata": {},
   "outputs": [],
   "source": [
    "def decrypt(C,R):\n",
    "    return curve.sub(C[1],curve.mul(R,C[0]))"
   ]
  },
  {
   "cell_type": "code",
   "execution_count": 1135,
   "metadata": {},
   "outputs": [],
   "source": [
    "R = 5 # Private key\n",
    "U = curve.mul(R, G) # Public key"
   ]
  },
  {
   "cell_type": "code",
   "execution_count": 1136,
   "metadata": {},
   "outputs": [],
   "source": [
    "plaintext = Point(6, 1)"
   ]
  },
  {
   "cell_type": "code",
   "execution_count": 1137,
   "metadata": {},
   "outputs": [
    {
     "name": "stdout",
     "output_type": "stream",
     "text": [
      "(6.0, 1.0)\n"
     ]
    }
   ],
   "source": [
    "ciphertext = encrypt(plaintext, U)\n",
    "p = decrypt(ciphertext, R)\n",
    "print(p)"
   ]
  },
  {
   "cell_type": "markdown",
   "metadata": {},
   "source": [
    "# ML A1 Linear Regression"
   ]
  },
  {
   "cell_type": "code",
   "execution_count": 1138,
   "metadata": {},
   "outputs": [],
   "source": [
    "\n",
    "\n",
    "data = [\n",
    "        (10, 95),\n",
    "        (9, 80),\n",
    "        (2, 10),\n",
    "        (15, 50),\n",
    "        (10, 45),\n",
    "        (16, 98),\n",
    "        (11, 38),\n",
    "        (16, 93),\n",
    "]"
   ]
  },
  {
   "cell_type": "code",
   "execution_count": 1139,
   "metadata": {},
   "outputs": [],
   "source": [
    "\n",
    "#lR\n",
    "#CC\n",
    "\n",
    "\n",
    "import pandas as pd\n",
    "import numpy as np\n",
    "import seaborn as sns\n",
    "sns.set(rc = {'figure.figsize':(8,8)})"
   ]
  },
  {
   "cell_type": "code",
   "execution_count": 1140,
   "metadata": {},
   "outputs": [
    {
     "data": {
      "text/plain": [
       "<matplotlib.axes._subplots.AxesSubplot at 0x213fb507648>"
      ]
     },
     "execution_count": 1140,
     "metadata": {},
     "output_type": "execute_result"
    },
    {
     "data": {
      "image/png": "[encoded data removed]",
      "text/plain": [
       "<Figure size 576x576 with 1 Axes>"
      ]
     },
     "metadata": {},
     "output_type": "display_data"
    }
   ],
   "source": [
    "x = [pt[0] for pt in data]\n",
    "y = [pt[1] for pt in data]\n",
    "\n",
    "sns.scatterplot(x=x,y=y)"
   ]
  },
  {
   "cell_type": "code",
   "execution_count": 1141,
   "metadata": {},
   "outputs": [
    {
     "name": "stdout",
     "output_type": "stream",
     "text": [
      "701.375   1060.8706992961017\n",
      "0.6611314653759117\n"
     ]
    }
   ],
   "source": [
    "x_mean = np.mean(x)\n",
    "y_mean = np.mean(y)\n",
    "num = sum((x-x_mean)*(y-y_mean))\n",
    "deno = (sum((x-x_mean)**2)*sum((y-y_mean)**2))**0.5\n",
    "print(num,\" \",deno)\n",
    "print(num/deno)"
   ]
  },
  {
   "cell_type": "code",
   "execution_count": 1142,
   "metadata": {},
   "outputs": [
    {
     "data": {
      "text/plain": [
       "4.58789860997547"
      ]
     },
     "execution_count": 1142,
     "metadata": {},
     "output_type": "execute_result"
    }
   ],
   "source": [
    "m = num/sum((x-x_mean)**2)\n",
    "m"
   ]
  },
  {
   "cell_type": "code",
   "execution_count": 1143,
   "metadata": {},
   "outputs": [
    {
     "data": {
      "text/plain": [
       "12.584627964022893"
      ]
     },
     "execution_count": 1143,
     "metadata": {},
     "output_type": "execute_result"
    }
   ],
   "source": [
    "c = y_mean - m*x_mean\n",
    "c"
   ]
  },
  {
   "cell_type": "code",
   "execution_count": 1144,
   "metadata": {},
   "outputs": [
    {
     "name": "stdout",
     "output_type": "stream",
     "text": [
      "[58.46361406377759, 53.87571545380212, 21.760425183973833, 81.40310711365495, 58.46361406377759, 85.99100572363042, 63.05151267375307, 85.99100572363042]\n"
     ]
    }
   ],
   "source": [
    "y_pred=[]\n",
    "for d in data:\n",
    "    y_pred.append(m*d[0]+c);\n",
    "print(y_pred)\n"
   ]
  },
  {
   "cell_type": "code",
   "execution_count": 1145,
   "metadata": {},
   "outputs": [],
   "source": [
    "#def plotRegressionLine"
   ]
  },
  {
   "cell_type": "code",
   "execution_count": null,
   "metadata": {},
   "outputs": [],
   "source": []
  },
  {
   "cell_type": "markdown",
   "metadata": {},
   "source": [
    "# ML A2: KNN"
   ]
  },
  {
   "cell_type": "code",
   "execution_count": 1146,
   "metadata": {},
   "outputs": [],
   "source": [
    "class KNN:\n",
    "    def __init__(self,k):\n",
    "        self.k=k\n",
    "        self.X=[]\n",
    "        self.y=[]\n",
    "        \n",
    "    def fit(self,X,y):\n",
    "        self.X = self.X+X\n",
    "        self.y = self.y+y\n",
    "        \n",
    "    def distance(self,p1,p2):\n",
    "        return (p1[0]-p2[0])**2 + (p1[1]-p2[1])**2\n",
    "    \n",
    "    def predict(self,x):\n",
    "        distances=[]\n",
    "        for i in range(len(self.X)):\n",
    "            distances.append((self.distance(x,self.X[i]),y[i]))\n",
    "        distances.sort()\n",
    "        distances = distances[:self.k]\n",
    "        count = {}\n",
    "        \n",
    "        for d in distances:\n",
    "            try: count[d[1]]+=1\n",
    "            except: count[d[1]]=1\n",
    "        mx = max(count,key=lambda i:count[i])\n",
    "        return mx\n",
    "    \n",
    "    def predictWeighted(self,x):\n",
    "        distances=[]\n",
    "        for i in range(len(self.X)):\n",
    "            distances.append((self.distance(x,self.X[i]),y[i]))\n",
    "        distances.sort()\n",
    "        distances = distances[:self.k]\n",
    "        count = {}\n",
    "        \n",
    "        for d in distances:\n",
    "            try: count[d[1]]+=1/d[0]\n",
    "            except: count[d[1]]=1/d[0]\n",
    "        mx = max(count,key=lambda i:count[i])\n",
    "        return mx\n",
    "    \n",
    "    def predictWeightedAverage(self,x):\n",
    "        distances=[]\n",
    "        for i in range(len(self.X)):\n",
    "            distances.append((self.distance(x,self.X[i]),y[i]))\n",
    "        distances.sort()\n",
    "        distances = distances[:self.k]\n",
    "        count = {}\n",
    "        \n",
    "        for d in distances:\n",
    "            try: count[d[1]].append(1/d[0])\n",
    "            except: count[d[1]]=1/d[0]\n",
    "                \n",
    "        for c in count:\n",
    "            count[c] = np.mean(count[c])\n",
    "            \n",
    "        mx = max(count,key=lambda i:count[i])\n",
    "        return mx\n",
    "        "
   ]
  },
  {
   "cell_type": "code",
   "execution_count": 1147,
   "metadata": {},
   "outputs": [],
   "source": [
    "model = KNN(3)"
   ]
  },
  {
   "cell_type": "code",
   "execution_count": 1148,
   "metadata": {},
   "outputs": [],
   "source": [
    "X = [\n",
    "     (2, 4),\n",
    "     (4, 6),\n",
    "     (4, 4),\n",
    "     (4, 2),\n",
    "     (6, 4),\n",
    "     (6 ,2)\n",
    "]\n",
    "y = ['Y', 'Y', 'B', 'Y', 'Y', 'B']"
   ]
  },
  {
   "cell_type": "code",
   "execution_count": 1149,
   "metadata": {},
   "outputs": [],
   "source": [
    "model.fit(X,y)"
   ]
  },
  {
   "cell_type": "code",
   "execution_count": 1150,
   "metadata": {},
   "outputs": [
    {
     "name": "stdout",
     "output_type": "stream",
     "text": [
      "predicted for(6,6) Y\n",
      "predicted_weighted for(6,6) Y\n",
      "predicted_weighted for(6,6) Y\n"
     ]
    }
   ],
   "source": [
    "x=(6,6)\n",
    "predicted=model.predict(x)\n",
    "print('predicted for(6,6)',predicted)\n",
    "predicted_weighted=model.predictWeighted(x)\n",
    "print('predicted_weighted for(6,6)',predicted_weighted)\n",
    "predictedlocaly_average_weighted=model.predictWeightedAverage(x)\n",
    "print('predicted_weighted for(6,6)',predicted_weighted)\n"
   ]
  },
  {
   "cell_type": "markdown",
   "metadata": {},
   "source": [
    "# ML A3: K means"
   ]
  },
  {
   "cell_type": "code",
   "execution_count": 1168,
   "metadata": {},
   "outputs": [],
   "source": [
    "import collections\n",
    "import matplotlib.pyplot as plt\n",
    "import seaborn as sns\n",
    "import pandas as pd\n",
    "sns.set(rc={'figure.figsize':(7, 7)})"
   ]
  },
  {
   "cell_type": "code",
   "execution_count": 1169,
   "metadata": {},
   "outputs": [],
   "source": [
    "def dist(p1,p2):\n",
    "    return (p1[0]-p2[0])**2 + (p1[1]-p2[1])**2"
   ]
  },
  {
   "cell_type": "code",
   "execution_count": 1170,
   "metadata": {},
   "outputs": [],
   "source": [
    "def getPointsWithClusterID(points,centroids):\n",
    "    pointsWithClusterId = [-1]*len(points)\n",
    "    for i in range(len(points)):\n",
    "        min_arr=[]\n",
    "        for j in range(len(centroids)):\n",
    "            min_arr.append((dist(points[i],centroids[j]),j))\n",
    "        \n",
    "        minIdx = min(min_arr,key= lambda i:i[0])[1]\n",
    "        pointsWithClusterId[i]=minIdx\n",
    "    return pointsWithClusterId\n",
    "        "
   ]
  },
  {
   "cell_type": "code",
   "execution_count": 1171,
   "metadata": {},
   "outputs": [],
   "source": [
    "centroids = [\n",
    "             (1,5),\n",
    "             (4,1),\n",
    "             (8,4)\n",
    "             ]\n",
    "points = [\n",
    "          (2,4),\n",
    "          (2,6),\n",
    "          (5,6),\n",
    "          (4,7),\n",
    "          (8,3),\n",
    "          (6,6),\n",
    "          (5,2),\n",
    "          (5,7),\n",
    "          (6,3),\n",
    "          (4,4)\n",
    "]\n",
    "k=3\n",
    "X=[]\n",
    "y=[]\n",
    "category=[]"
   ]
  },
  {
   "cell_type": "code",
   "execution_count": 1172,
   "metadata": {},
   "outputs": [],
   "source": [
    "def calculateNewCentroid(pointsWithClusterId):\n",
    "    count={}\n",
    "    for cid in pointsWithClusterId:\n",
    "        try: count[cid]+= 1\n",
    "        except: count[cid]=1\n",
    "            \n",
    "    x_coordinate = [0]*k\n",
    "    y_coordinate = [0]*k\n",
    "    \n",
    "    for i in range(len(pointsWithClusterId)):\n",
    "        cid = pointsWithClusterId[i]\n",
    "        x_coordinate[cid] += points[i][0]\n",
    "        y_coordinate[cid] += points[i][1]\n",
    "    \n",
    "    new_centroids=[]\n",
    "    for i in range(k):\n",
    "        new_centroids.append((x_coordinate[i]/count[i],y_coordinate[i]/count[i]))\n",
    "    return new_centroids\n",
    "    "
   ]
  },
  {
   "cell_type": "code",
   "execution_count": 1173,
   "metadata": {},
   "outputs": [],
   "source": [
    "def Kmeans():\n",
    "    prevPointsWithClusterId = getPointsWithClusterID(points,centroids)\n",
    "    new_centroids = calculateNewCentroid(prevPointsWithClusterId)\n",
    "    newPointsWithClusterId = []\n",
    "    while (True):\n",
    "        newPointsWithClusterId = getPointsWithClusterID(points,new_centroids)\n",
    "        if (collections.Counter(prevPointsWithClusterId) == collections.Counter(newPointsWithClusterId)):\n",
    "            break\n",
    "        prevPointsWithClusterId= newPointsWithClusterId\n",
    "        new_centroids = calculateNewCentroid(prevPointsWithClusterId)\n",
    "    print(new_centroids)\n",
    "    for i in range(len(points)):\n",
    "        X.append(points[i][0])\n",
    "        y.append(points[i][1])\n",
    "        category.append(newPointsWithClusterId[i])\n",
    "\n",
    "    for i in range(len(new_centroids)):\n",
    "        X.append(new_centroids[i][0])\n",
    "        y.append(new_centroids[i][1])\n",
    "        category.append('Centroid')\n",
    "        \n",
    "            "
   ]
  },
  {
   "cell_type": "code",
   "execution_count": 1174,
   "metadata": {},
   "outputs": [],
   "source": [
    "def Plot(X, y, x_label='X-axis', y_label='Y-axis'):\n",
    "  plt.figure(figsize=(6,6))\n",
    "  plt.xlabel(x_label)\n",
    "  plt.ylabel(y_label)\n",
    "  plt.scatter(X,y)\n",
    "  return plt"
   ]
  },
  {
   "cell_type": "code",
   "execution_count": 1175,
   "metadata": {},
   "outputs": [
    {
     "name": "stdout",
     "output_type": "stream",
     "text": [
      "[(2.0, 5.0), (5.75, 3.0), (5.0, 6.5)]\n"
     ]
    }
   ],
   "source": [
    "Kmeans()"
   ]
  },
  {
   "cell_type": "code",
   "execution_count": 1176,
   "metadata": {},
   "outputs": [
    {
     "data": {
      "text/plain": [
       "<module 'matplotlib.pyplot' from 'C:\\\\Users\\\\prasad\\\\Anaconda3\\\\lib\\\\site-packages\\\\matplotlib\\\\pyplot.py'>"
      ]
     },
     "execution_count": 1176,
     "metadata": {},
     "output_type": "execute_result"
    },
    {
     "data": {
      "image/png": "[encoded data removed]",
      "text/plain": [
       "<Figure size 432x432 with 1 Axes>"
      ]
     },
     "metadata": {},
     "output_type": "display_data"
    }
   ],
   "source": [
    "Plot(X,y)"
   ]
  },
  {
   "cell_type": "code",
   "execution_count": 1178,
   "metadata": {},
   "outputs": [
    {
     "data": {
      "text/plain": [
       "<matplotlib.axes._subplots.AxesSubplot at 0x213fa405f08>"
      ]
     },
     "execution_count": 1178,
     "metadata": {},
     "output_type": "execute_result"
    },
    {
     "data": {
      "image/png": "[encoded data removed]",
      "text/plain": [
       "<Figure size 504x504 with 1 Axes>"
      ]
     },
     "metadata": {},
     "output_type": "display_data"
    }
   ],
   "source": [
    "clustered_df = pd.DataFrame()\n",
    "clustered_df['x']=X\n",
    "clustered_df['y']=y\n",
    "clustered_df['category']=category\n",
    "sns.scatterplot(data = clustered_df, x = 'x', y = 'y', hue = 'category')"
   ]
  },
  {
   "cell_type": "markdown",
   "metadata": {},
   "source": [
    "# ML A4: Decision Tree"
   ]
  },
  {
   "cell_type": "code",
   "execution_count": null,
   "metadata": {},
   "outputs": [],
   "source": [
    "fft"
   ]
  },
  {
   "cell_type": "code",
   "execution_count": null,
   "metadata": {},
   "outputs": [],
   "source": []
  }
 ],
 "metadata": {
  "kernelspec": {
   "display_name": "Python 3",
   "language": "python",
   "name": "python3"
  },
  "language_info": {
   "codemirror_mode": {
    "name": "ipython",
    "version": 3
   },
   "file_extension": ".py",
   "mimetype": "text/x-python",
   "name": "python",
   "nbconvert_exporter": "python",
   "pygments_lexer": "ipython3",
   "version": "3.7.4"
  }
 },
 "nbformat": 4,
 "nbformat_minor": 2
}
